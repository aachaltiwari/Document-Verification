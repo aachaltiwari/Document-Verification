{
 "cells": [
  {
   "cell_type": "code",
   "execution_count": 35,
   "id": "f284436c-d1a3-4e98-895c-3d1f565fc844",
   "metadata": {},
   "outputs": [],
   "source": [
    "# !pip install python-Levenshtein"
   ]
  },
  {
   "cell_type": "code",
   "execution_count": 36,
   "id": "86901f20-3120-427a-942c-49fd3f9fc2a9",
   "metadata": {},
   "outputs": [],
   "source": [
    "import pandas as pd\n",
    "import Levenshtein"
   ]
  },
  {
   "cell_type": "code",
   "execution_count": 37,
   "id": "490c6788-86a9-4051-9f73-0ffe49df3282",
   "metadata": {},
   "outputs": [],
   "source": [
    "csv_file = \"ocrdataset/dataset_test/data.csv\"\n",
    "df = pd.read_csv(csv_file)\n",
    "texts = df['text'].astype(str)[:10000].tolist()"
   ]
  },
  {
   "cell_type": "code",
   "execution_count": 38,
   "id": "b731c5fb-b4ee-4d78-9462-139b7b942957",
   "metadata": {},
   "outputs": [],
   "source": [
    "# Load predicted.txt\n",
    "pred_file = \"ocrdataset/dataset_test/predicted.txt\"\n",
    "with open(pred_file, \"r\", encoding=\"utf-8\") as f:\n",
    "    predicted_texts = [line.strip() for line in f.readlines()[:10000]]"
   ]
  },
  {
   "cell_type": "code",
   "execution_count": 39,
   "id": "1105ef93-44c9-4d99-8ae1-90c487f7d617",
   "metadata": {},
   "outputs": [
    {
     "name": "stdout",
     "output_type": "stream",
     "text": [
      "११२\n",
      "११२\n"
     ]
    }
   ],
   "source": [
    "n = 9999\n",
    "print(texts[n])\n",
    "print(predicted_texts[n])"
   ]
  },
  {
   "cell_type": "code",
   "execution_count": 40,
   "id": "5156a939-7fae-4b3d-8016-d484a058883b",
   "metadata": {},
   "outputs": [],
   "source": [
    "def cer(ref, hyp):\n",
    "    return Levenshtein.distance(ref, hyp) / max(1, len(ref))"
   ]
  },
  {
   "cell_type": "code",
   "execution_count": 41,
   "id": "f6dcf3f4-4944-40fd-a9b1-0803ecd8aa84",
   "metadata": {},
   "outputs": [],
   "source": [
    "cers = [cer(ref, hyp) for ref, hyp in zip(texts, predicted_texts)]"
   ]
  },
  {
   "cell_type": "code",
   "execution_count": 42,
   "id": "dc8f2f55-ad52-4707-8117-d6675e5c7f1d",
   "metadata": {},
   "outputs": [],
   "source": [
    "# cers"
   ]
  },
  {
   "cell_type": "code",
   "execution_count": 43,
   "id": "8bbc0a1d-7371-4ebf-94a5-39cff7892a79",
   "metadata": {},
   "outputs": [
    {
     "name": "stdout",
     "output_type": "stream",
     "text": [
      "Average CER: 0.0428\n"
     ]
    }
   ],
   "source": [
    "# Print average CER\n",
    "avg_cer = sum(cers) / len(cers)\n",
    "print(f\"Average CER: {avg_cer:.4f}\")"
   ]
  },
  {
   "cell_type": "code",
   "execution_count": null,
   "id": "15802b7a-a1af-4a52-9c4d-f5254b57d2e4",
   "metadata": {},
   "outputs": [],
   "source": []
  }
 ],
 "metadata": {
  "kernelspec": {
   "display_name": "Python 3 (ipykernel)",
   "language": "python",
   "name": "python3"
  },
  "language_info": {
   "codemirror_mode": {
    "name": "ipython",
    "version": 3
   },
   "file_extension": ".py",
   "mimetype": "text/x-python",
   "name": "python",
   "nbconvert_exporter": "python",
   "pygments_lexer": "ipython3",
   "version": "3.11.11"
  }
 },
 "nbformat": 4,
 "nbformat_minor": 5
}
